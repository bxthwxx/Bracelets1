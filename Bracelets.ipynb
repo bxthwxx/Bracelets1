{
 "cells": [
  {
   "cell_type": "code",
   "execution_count": 1,
   "id": "7ea0cf35-d919-4767-a33a-41837d181259",
   "metadata": {},
   "outputs": [],
   "source": [
    "import numpy as np"
   ]
  },
  {
   "cell_type": "code",
   "execution_count": null,
   "id": "06418b99-ed98-4fe3-8b18-d4ce2d0949c5",
   "metadata": {},
   "outputs": [],
   "source": [
    "x = 1\n",
    "y = 5\n",
    "z = 0\n",
    "truth == False\n",
    "\n",
    "while truth == False:\n",
    "    z = x + y\n",
    "    z = z % 10\n",
    "    x = y\n",
    "    y = z"
   ]
  },
  {
   "cell_type": "code",
   "execution_count": 24,
   "id": "5376d9bb-5a41-4bf6-810e-21ff65203500",
   "metadata": {},
   "outputs": [
    {
     "name": "stdout",
     "output_type": "stream",
     "text": [
      "1\n",
      "5\n",
      "6\n",
      "1\n",
      "7\n",
      "8\n",
      "5\n",
      "3\n",
      "8\n",
      "1\n",
      "9\n",
      "0\n",
      "9\n",
      "9\n",
      "8\n",
      "7\n",
      "5\n",
      "2\n",
      "7\n",
      "9\n",
      "6\n",
      "5\n",
      "1\n",
      "6\n",
      "7\n",
      "3\n",
      "0\n",
      "3\n",
      "3\n",
      "6\n",
      "9\n",
      "5\n",
      "4\n",
      "9\n",
      "3\n",
      "2\n",
      "5\n",
      "7\n",
      "2\n",
      "9\n",
      "1\n",
      "0\n",
      "1\n",
      "1\n",
      "2\n",
      "3\n",
      "5\n",
      "8\n",
      "3\n",
      "1\n",
      "4\n",
      "5\n",
      "9\n",
      "4\n",
      "3\n",
      "7\n",
      "0\n",
      "7\n",
      "7\n",
      "4\n",
      "1\n",
      "5\n",
      "6\n",
      "1\n",
      "7\n",
      "8\n",
      "5\n",
      "3\n",
      "8\n",
      "1\n",
      "9\n",
      "0\n",
      "9\n",
      "9\n",
      "8\n",
      "7\n",
      "5\n",
      "2\n",
      "7\n",
      "9\n",
      "6\n",
      "5\n",
      "1\n",
      "6\n",
      "7\n",
      "3\n",
      "0\n",
      "3\n",
      "3\n",
      "6\n",
      "9\n",
      "5\n",
      "4\n",
      "9\n",
      "3\n",
      "2\n",
      "5\n",
      "7\n",
      "2\n",
      "9\n",
      "1\n",
      "0\n"
     ]
    }
   ],
   "source": [
    "x = 1\n",
    "y = 5\n",
    "z = 0\n",
    "print(x)\n",
    "print(y)\n",
    "\n",
    "for i in range(100):\n",
    "    z = x + y\n",
    "    z = z % 10\n",
    "    x = y\n",
    "    y = z\n",
    "    print(z)"
   ]
  },
  {
   "cell_type": "code",
   "execution_count": 13,
   "id": "21725830-89db-4118-b79c-90480d5fd877",
   "metadata": {},
   "outputs": [
    {
     "name": "stdout",
     "output_type": "stream",
     "text": [
      "63\n"
     ]
    }
   ],
   "source": [
    "x = 1\n",
    "y = 5\n",
    "z = 0\n",
    "i = 2\n",
    "t = False #will be assigned true if the chain has started looping\n",
    "#print(x)\n",
    "#print(y)\n",
    "\n",
    "while t == False:\n",
    "    z = x + y\n",
    "    z = z % 10\n",
    "    i += 1\n",
    "    if x == 1 and y == 5 and z == 6 and i > 10:\n",
    "        t = True\n",
    "        print(i)\n",
    "    x = y\n",
    "    y = z\n",
    "    #print(z)"
   ]
  },
  {
   "cell_type": "code",
   "execution_count": 23,
   "id": "a4c3cae5-6207-4b4f-bb40-1985ec7d4428",
   "metadata": {},
   "outputs": [
    {
     "name": "stdout",
     "output_type": "stream",
     "text": [
      "23\n"
     ]
    }
   ],
   "source": [
    "x = 0\n",
    "y = 6\n",
    "z = 0\n",
    "i = 2\n",
    "t = False #will be assigned true if the chain has started looping\n",
    "#print(x)\n",
    "#print(y)\n",
    "\n",
    "while t == False:\n",
    "    z = x + y\n",
    "    z = z % 10\n",
    "    i += 1\n",
    "    if x == 0 and y == 6 and z == 6 and i > 10:\n",
    "        t = True\n",
    "        print(i)\n",
    "    x = y\n",
    "    y = z\n",
    "    #print(z)"
   ]
  },
  {
   "cell_type": "code",
   "execution_count": 3,
   "id": "d33b4614-5821-421f-a54d-fafec5663361",
   "metadata": {},
   "outputs": [
    {
     "name": "stdout",
     "output_type": "stream",
     "text": [
      "0\n",
      "2\n",
      "2\n",
      "4\n",
      "6\n",
      "0\n",
      "6\n",
      "6\n",
      "2\n",
      "8\n",
      "0\n",
      "8\n",
      "8\n",
      "6\n",
      "4\n",
      "0\n",
      "4\n",
      "4\n",
      "8\n",
      "2\n",
      "0\n",
      "2\n",
      "2\n",
      "4\n",
      "6\n",
      "0\n",
      "6\n",
      "6\n",
      "2\n",
      "8\n",
      "0\n",
      "8\n",
      "8\n",
      "6\n",
      "4\n",
      "0\n",
      "4\n",
      "4\n",
      "8\n",
      "2\n",
      "0\n",
      "2\n"
     ]
    }
   ],
   "source": [
    "x = 0\n",
    "y = 2\n",
    "z = 2\n",
    "print(x)\n",
    "print(y)\n",
    "\n",
    "for i in range(40):\n",
    "    z = x + y\n",
    "    z = z % 10\n",
    "    x = y\n",
    "    y = z\n",
    "    print(z)"
   ]
  },
  {
   "cell_type": "code",
   "execution_count": null,
   "id": "263033c5-0f2d-4fd9-a055-33a16f40befb",
   "metadata": {},
   "outputs": [],
   "source": [
    "x = 0\n",
    "y = 2\n",
    "z = 2\n",
    "print(x)\n",
    "print(y)\n",
    "\n",
    "for i in range(40):\n",
    "    z = x + y\n",
    "    z = z % 10\n",
    "    x = y\n",
    "    y = z\n",
    "    print(z)"
   ]
  },
  {
   "cell_type": "code",
   "execution_count": 4,
   "id": "eadb5fb8-55c8-4577-ba84-9a91e2a172a6",
   "metadata": {},
   "outputs": [
    {
     "name": "stdout",
     "output_type": "stream",
     "text": [
      "0\n",
      "5\n",
      "5\n",
      "0\n",
      "5\n",
      "5\n",
      "0\n"
     ]
    }
   ],
   "source": [
    "x = 0\n",
    "y = 5\n",
    "z = 5\n",
    "print(x)\n",
    "print(y)\n",
    "\n",
    "for i in range(5):\n",
    "    z = x + y\n",
    "    z = z % 10\n",
    "    x = y\n",
    "    y = z\n",
    "    print(z)"
   ]
  },
  {
   "cell_type": "code",
   "execution_count": null,
   "id": "f50ddfac-a0f3-443a-a5e8-5179baa9bc68",
   "metadata": {},
   "outputs": [],
   "source": []
  }
 ],
 "metadata": {
  "kernelspec": {
   "display_name": "Python 3 (ipykernel)",
   "language": "python",
   "name": "python3"
  },
  "language_info": {
   "codemirror_mode": {
    "name": "ipython",
    "version": 3
   },
   "file_extension": ".py",
   "mimetype": "text/x-python",
   "name": "python",
   "nbconvert_exporter": "python",
   "pygments_lexer": "ipython3",
   "version": "3.9.7"
  }
 },
 "nbformat": 4,
 "nbformat_minor": 5
}
